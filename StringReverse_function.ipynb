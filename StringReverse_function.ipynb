{
 "cells": [
  {
   "cell_type": "markdown",
   "id": "1c5e0e69",
   "metadata": {},
   "source": [
    "# String Reverse using function"
   ]
  },
  {
   "cell_type": "code",
   "execution_count": 2,
   "id": "e8d21cb6",
   "metadata": {},
   "outputs": [
    {
     "name": "stdout",
     "output_type": "stream",
     "text": [
      "Enter any string: Hello DS26112021\n",
      "Reversed string is: 12021162SD olleH\n"
     ]
    }
   ],
   "source": [
    "def string_reverse(s,rev_s):\n",
    "      for ch in s[ : :-1]:\n",
    "            rev_s = rev_s + ch\n",
    "      return rev_s\n",
    "a = input(\"Enter any string: \")\n",
    "b = \"\"\n",
    "reverse = string_reverse(a,b)\n",
    "print(\"Reversed string is: \" + reverse)"
   ]
  },
  {
   "cell_type": "code",
   "execution_count": null,
   "id": "866dbe7c",
   "metadata": {},
   "outputs": [],
   "source": []
  },
  {
   "cell_type": "code",
   "execution_count": null,
   "id": "42d1dbf8",
   "metadata": {},
   "outputs": [],
   "source": []
  },
  {
   "cell_type": "code",
   "execution_count": null,
   "id": "f7cb5865",
   "metadata": {},
   "outputs": [],
   "source": []
  },
  {
   "cell_type": "code",
   "execution_count": null,
   "id": "48cc0a2e",
   "metadata": {},
   "outputs": [],
   "source": []
  },
  {
   "cell_type": "code",
   "execution_count": null,
   "id": "174eb1da",
   "metadata": {},
   "outputs": [],
   "source": []
  },
  {
   "cell_type": "code",
   "execution_count": null,
   "id": "cf078030",
   "metadata": {},
   "outputs": [],
   "source": []
  },
  {
   "cell_type": "code",
   "execution_count": null,
   "id": "17267cf0",
   "metadata": {},
   "outputs": [],
   "source": []
  }
 ],
 "metadata": {
  "kernelspec": {
   "display_name": "Python 3 (ipykernel)",
   "language": "python",
   "name": "python3"
  },
  "language_info": {
   "codemirror_mode": {
    "name": "ipython",
    "version": 3
   },
   "file_extension": ".py",
   "mimetype": "text/x-python",
   "name": "python",
   "nbconvert_exporter": "python",
   "pygments_lexer": "ipython3",
   "version": "3.10.0"
  }
 },
 "nbformat": 4,
 "nbformat_minor": 5
}
